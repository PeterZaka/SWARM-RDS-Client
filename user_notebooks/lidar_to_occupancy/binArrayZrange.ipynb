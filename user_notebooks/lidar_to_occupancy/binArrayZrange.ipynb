{
  "cells": [
    {
      "cell_type": "code",
      "execution_count": 29,
      "metadata": {
        "id": "1Y_vtWhFHqTj"
      },
      "outputs": [
        {
          "data": {
            "text/plain": [
              "array([[ 43.20603184, -22.24181105,  -1.7647118 ],\n",
              "       [ 43.20611032, -21.7989843 ,  -1.76471171],\n",
              "       [ 43.20618506, -21.35922704,  -1.76471168],\n",
              "       ...,\n",
              "       [ 11.53613223,  -5.93052406,  -5.22241355],\n",
              "       [ 11.51417237,  -5.86102814,  -5.22284962],\n",
              "       [ 11.49154967,  -5.79174319,  -5.22329981]])"
            ]
          },
          "execution_count": 29,
          "metadata": {},
          "output_type": "execute_result"
        }
      ],
      "source": [
        "#imports\n",
        "import struct\n",
        "import json\n",
        "import numpy as np\n",
        "import matplotlib.pyplot as plt\n",
        "import math\n",
        "\n",
        "#load json data to np array\n",
        "f = open('result.json')\n",
        "data = json.load(f)\n",
        "arr = np.array(data[\"2023-10-21-18:21:38:108\"][\"point_cloud\"])\n",
        "arr"
      ]
    },
    {
      "cell_type": "code",
      "execution_count": 30,
      "metadata": {
        "id": "GprtZWWRwusn"
      },
      "outputs": [
        {
          "name": "stdout",
          "output_type": "stream",
          "text": [
            "[[ 43.20603184 -22.24181105]\n",
            " [ 43.20611032 -21.7989843 ]\n",
            " [ 43.20618506 -21.35922704]\n",
            " [ 43.45644265 -21.00515578]\n",
            " [ 20.32833412  -4.00329139]\n",
            " [ 19.72122179  -4.00318412]\n",
            " [ 19.15671842  -4.00308447]\n",
            " [ 18.63039384  -4.00299198]\n",
            " [ 18.13842885  -4.0029052 ]\n",
            " [ 17.67743028  -4.00282415]\n",
            " [ 17.24449638  -4.00274739]\n",
            " [ 16.83706359  -4.0026754 ]\n",
            " [ 16.45286915  -4.00260817]]\n"
          ]
        }
      ],
      "source": [
        "#specify z range and get xy array\n",
        "z_min = -2.0\n",
        "z_max = -1.0\n",
        "\n",
        "mask = (arr[:, 2] >= z_min) & (arr[:, 2] <= z_max)\n",
        "z_arr = arr[mask, :2]\n",
        "\n",
        "print(z_arr)"
      ]
    },
    {
      "cell_type": "code",
      "execution_count": 31,
      "metadata": {
        "id": "q3A477WGv_t5"
      },
      "outputs": [
        {
          "data": {
            "image/png": "[encoded data removed]",
            "text/plain": [
              "<Figure size 640x480 with 1 Axes>"
            ]
          },
          "metadata": {},
          "output_type": "display_data"
        }
      ],
      "source": [
        "#filtered\n",
        "plt.scatter(z_arr[:, 0], z_arr[:, 1])\n",
        "plt.xlabel('X')\n",
        "plt.ylabel('Y')\n",
        "plt.title('Z Range Plot')\n",
        "plt.grid(True)\n",
        "plt.show()"
      ]
    },
    {
      "cell_type": "code",
      "execution_count": 32,
      "metadata": {
        "id": "1YFIsJQJz3Cg"
      },
      "outputs": [
        {
          "name": "stdout",
          "output_type": "stream",
          "text": [
            "max x:  43.45644264879946\n",
            "max x int:  44\n",
            "max y:  -4.002608171966513\n",
            "max y int:  -4\n"
          ]
        }
      ],
      "source": [
        "#get max x and y vals\n",
        "#max x val\n",
        "x_coords = z_arr[:, 0]\n",
        "max_x = np.max(x_coords)\n",
        "max_x_int = math.ceil(max_x)\n",
        "print(\"max x: \",max_x)\n",
        "print(\"max x int: \",max_x_int)\n",
        "\n",
        "#max y val\n",
        "y_coords = z_arr[:, 1]\n",
        "max_y = np.max(y_coords)\n",
        "max_y_int = math.ceil(max_y)\n",
        "print(\"max y: \",max_y)\n",
        "print(\"max y int: \",max_y_int)"
      ]
    },
    {
      "cell_type": "code",
      "execution_count": 33,
      "metadata": {
        "id": "_hPTqVhRCIPc"
      },
      "outputs": [
        {
          "data": {
            "text/plain": [
              "\"\\n#def size and res\\ngrid_size = (max_x_int + 5, max_y_int + 5)\\nresolution = .5\\n\\n#get grid size to convert\\nx_coords = z_arr[:, 0]\\ny_coords = z_arr[:, 1]\\nmin_x = np.min(x_coords)\\nmin_y = np.min(y_coords)\\nrange_x = max_x - min_x\\nrange_y = max_y - min_y\\ngrid_size = (math.ceil(range_x / resolution) + 1, math.ceil(range_y / resolution) + 1)\\n\\n#pc to bin arr\\nbinary_grid = np.zeros(grid_size, dtype=int)\\nfor point in point_cloud:\\n    x, y = point\\n    grid_x = int((x - min_x) / resolution)\\n    grid_y = int((y - min_y) / resolution)\\n    if 0 <= grid_x < grid_size[0] and 0 <= grid_y < grid_size[1]:\\n        binary_grid[grid_x, grid_y] = 1\\n\\n#disp bin arr\\nplt.imshow(binary_grid.T, cmap='binary', origin='lower', extent=[0, range_x, 0, range_y])\\nplt.title('Binary Grid')\\nplt.xlabel('X')\\nplt.ylabel('Y')\\nplt.show()\\n\""
            ]
          },
          "execution_count": 33,
          "metadata": {},
          "output_type": "execute_result"
        }
      ],
      "source": [
        "#bin grid plt\n",
        "point_cloud = z_arr\n",
        "\"\"\"\n",
        "#def size and res\n",
        "grid_size = (max_x_int + 5, max_y_int + 5)\n",
        "resolution = .5\n",
        "\n",
        "#get grid size to convert\n",
        "x_coords = z_arr[:, 0]\n",
        "y_coords = z_arr[:, 1]\n",
        "min_x = np.min(x_coords)\n",
        "min_y = np.min(y_coords)\n",
        "range_x = max_x - min_x\n",
        "range_y = max_y - min_y\n",
        "grid_size = (math.ceil(range_x / resolution) + 1, math.ceil(range_y / resolution) + 1)\n",
        "\n",
        "#pc to bin arr\n",
        "binary_grid = np.zeros(grid_size, dtype=int)\n",
        "for point in point_cloud:\n",
        "    x, y = point\n",
        "    grid_x = int((x - min_x) / resolution)\n",
        "    grid_y = int((y - min_y) / resolution)\n",
        "    if 0 <= grid_x < grid_size[0] and 0 <= grid_y < grid_size[1]:\n",
        "        binary_grid[grid_x, grid_y] = 1\n",
        "\n",
        "#disp bin arr\n",
        "plt.imshow(binary_grid.T, cmap='binary', origin='lower', extent=[0, range_x, 0, range_y])\n",
        "plt.title('Binary Grid')\n",
        "plt.xlabel('X')\n",
        "plt.ylabel('Y')\n",
        "plt.show()\n",
        "\"\"\""
      ]
    },
    {
      "cell_type": "code",
      "execution_count": 34,
      "metadata": {
        "id": "APZ4WHpqJNuh"
      },
      "outputs": [
        {
          "name": "stdout",
          "output_type": "stream",
          "text": [
            "[[0 0 0 ... 0 1 0]\n",
            " [0 0 0 ... 0 1 0]\n",
            " [0 0 0 ... 0 1 0]\n",
            " ...\n",
            " [1 1 0 ... 0 0 0]\n",
            " [0 0 1 ... 0 0 0]\n",
            " [0 0 0 ... 0 0 0]]\n"
          ]
        }
      ],
      "source": [
        "#bin grid plt function\n",
        "point_cloud = z_arr #xy coord array at specified z range\n",
        "\n",
        "#funct\n",
        "def to_bin(point_cloud, resolution=0.5):\n",
        "\n",
        "  #get grid size to convert\n",
        "  x_coords = z_arr[:, 0]\n",
        "  y_coords = z_arr[:, 1]\n",
        "  min_x = np.min(x_coords)\n",
        "  min_y = np.min(y_coords)\n",
        "  range_x = max_x - min_x\n",
        "  range_y = max_y - min_y\n",
        "  grid_size = (math.ceil(range_x / resolution) + 1, math.ceil(range_y / resolution) + 1)\n",
        "\n",
        "  #pc to bin arr\n",
        "  binary_grid = np.zeros(grid_size, dtype=int)\n",
        "  for point in point_cloud:\n",
        "    x, y = point\n",
        "    grid_x = int((x - min_x) / resolution)\n",
        "    grid_y = int((y - min_y) / resolution)\n",
        "    if 0 <= grid_x < grid_size[0] and 0 <= grid_y < grid_size[1]:\n",
        "        binary_grid[grid_x, grid_y] = 1\n",
        "\n",
        "  #check bin grid\n",
        "  print(binary_grid)\n",
        "\n",
        "#call\n",
        "to_bin(z_arr)\n"
      ]
    }
  ],
  "metadata": {
    "colab": {
      "provenance": []
    },
    "kernelspec": {
      "display_name": "Python 3",
      "name": "python3"
    },
    "language_info": {
      "codemirror_mode": {
        "name": "ipython",
        "version": 3
      },
      "file_extension": ".py",
      "mimetype": "text/x-python",
      "name": "python",
      "nbconvert_exporter": "python",
      "pygments_lexer": "ipython3",
      "version": "3.10.11"
    }
  },
  "nbformat": 4,
  "nbformat_minor": 0
}
