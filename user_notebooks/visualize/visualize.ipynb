{
 "cells": [
  {
   "cell_type": "code",
   "execution_count": null,
   "metadata": {},
   "outputs": [],
   "source": [
    "import re\n",
    "import numpy as np\n",
    "import matplotlib.pyplot as plt\n",
    "import copy\n",
    "import open3d as o3d"
   ]
  },
  {
   "cell_type": "code",
   "execution_count": null,
   "metadata": {},
   "outputs": [],
   "source": [
    "def get_grid(s):\n",
    "    pattern = re.compile(r'user_message\\|([0-9\\.]*)')\n",
    "    grid = []\n",
    "    for i in re.findall(pattern, s):\n",
    "        if i == \"\":\n",
    "            continue\n",
    "        i = i.split('.')\n",
    "        grid.append([int(x) for x in i])\n",
    "    grid = np.array(grid)\n",
    "    return grid"
   ]
  },
  {
   "cell_type": "code",
   "execution_count": null,
   "metadata": {},
   "outputs": [],
   "source": [
    "def get_points(s):\n",
    "    pattern = re.compile(r'user_message\\|([0-9\\.\\,\\-e]*,)')\n",
    "    new_points = []\n",
    "    for i in re.findall(pattern, s):\n",
    "        i = i.split(',')[:-1]\n",
    "        if len(i) == 0:\n",
    "            continue\n",
    "        new_points.append([float(x) for x in i])\n",
    "    new_points = np.array(new_points)\n",
    "    return new_points"
   ]
  },
  {
   "cell_type": "code",
   "execution_count": null,
   "metadata": {},
   "outputs": [],
   "source": [
    "def visualize_pointcloud(pcd, show_draw=False):\n",
    "    pcd = copy.deepcopy(pcd)\n",
    "    o3d.visualization.draw_plotly([pcd])\n",
    "    if show_draw:\n",
    "        R = pcd.get_rotation_matrix_from_xyz((-np.pi / 2, 0, np.pi / 2))\n",
    "        pcd.rotate(R, center=(0, 0, 0))\n",
    "        o3d.visualization.draw([pcd], show_ui=True)"
   ]
  },
  {
   "cell_type": "code",
   "execution_count": null,
   "metadata": {},
   "outputs": [],
   "source": [
    "def max_walls(grid):\n",
    "    u, count = np.unique(grid, return_counts=True)\n",
    "\n",
    "    count_sort_ind = np.argsort(-count)\n",
    "\n",
    "    if len(count_sort_ind) <= 1:\n",
    "        return\n",
    "    grid[grid == u[count_sort_ind[1]]] = grid.max()"
   ]
  },
  {
   "cell_type": "markdown",
   "metadata": {},
   "source": [
    "# Occupancy Map"
   ]
  },
  {
   "cell_type": "code",
   "execution_count": null,
   "metadata": {},
   "outputs": [],
   "source": [
    "s = input()"
   ]
  },
  {
   "cell_type": "code",
   "execution_count": null,
   "metadata": {},
   "outputs": [],
   "source": [
    "def draw_circle(radius):\n",
    "    diameter = 2 * radius\n",
    "    diameter += 10\n",
    "    circle = [[0 for _ in range(diameter + 1)] for _ in range(diameter + 1)]\n",
    "\n",
    "    x = radius\n",
    "    y = 0\n",
    "    error = 0\n",
    "\n",
    "    while x >= y:\n",
    "        circle[radius + x][radius + y] = 1\n",
    "        circle[radius + y][radius + x] = 1\n",
    "        circle[radius - y][radius + x] = 1\n",
    "        circle[radius - x][radius + y] = 1\n",
    "        circle[radius - x][radius - y] = 1\n",
    "        circle[radius - y][radius - x] = 1\n",
    "        circle[radius + y][radius - x] = 1\n",
    "        circle[radius + x][radius - y] = 1\n",
    "\n",
    "        y += 1\n",
    "        error += 1 + 2 * y\n",
    "        if 2 * (error - x) + 1 > 0:\n",
    "            x -= 1\n",
    "            error += 1 - 2 * x\n",
    "\n",
    "    return circle\n",
    "\n",
    "def print_circle(circle):\n",
    "    for row in circle:\n",
    "        print(' '.join(map(str, row)))\n",
    "\n",
    "radius = 20\n",
    "circle = draw_circle(radius)\n"
   ]
  },
  {
   "cell_type": "code",
   "execution_count": null,
   "metadata": {},
   "outputs": [],
   "source": [
    "grid = np.array(circle)\n",
    "max_walls(grid)\n",
    "\n",
    "fig, ax = plt.subplots()\n",
    "\n",
    "ax.imshow(grid, cmap='Greys')\n",
    "ax.set_xticks([])\n",
    "ax.set_yticks([])\n",
    "\n",
    "plt.show()"
   ]
  },
  {
   "cell_type": "markdown",
   "metadata": {},
   "source": [
    "# Lidar Point Cloud"
   ]
  },
  {
   "cell_type": "code",
   "execution_count": null,
   "metadata": {},
   "outputs": [],
   "source": [
    "with open('../../data/logs/Drone1-HighLevelPathPlanning-2-25-2024.log') as f:\n",
    "    s = f.read()"
   ]
  },
  {
   "cell_type": "code",
   "execution_count": null,
   "metadata": {},
   "outputs": [],
   "source": [
    "s = input()"
   ]
  },
  {
   "cell_type": "code",
   "execution_count": null,
   "metadata": {},
   "outputs": [],
   "source": [
    "points = get_points(s)\n",
    "#points[:, 1] *= -1\n",
    "\n",
    "pcl = o3d.geometry.PointCloud()\n",
    "pcl.points = o3d.utility.Vector3dVector(points)\n",
    "\n",
    "visualize_pointcloud(pcl)"
   ]
  },
  {
   "cell_type": "markdown",
   "metadata": {},
   "source": [
    "# Create Messages"
   ]
  },
  {
   "cell_type": "code",
   "execution_count": null,
   "metadata": {},
   "outputs": [],
   "source": [
    "import json"
   ]
  },
  {
   "cell_type": "code",
   "execution_count": null,
   "metadata": {},
   "outputs": [],
   "source": [
    "def JSON_to_Dictonary(filename):\n",
    "    with open(filename) as f:\n",
    "        data = json.load(f)\n",
    "\n",
    "        # get first timestamp\n",
    "        if 'point_cloud' not in data.keys():\n",
    "            data = next(iter(data.values()))\n",
    "\n",
    "    return data"
   ]
  },
  {
   "cell_type": "code",
   "execution_count": null,
   "metadata": {},
   "outputs": [],
   "source": [
    "data = JSON_to_Dictonary('../lidar/lidar_data_sample_boxed_env.json')"
   ]
  },
  {
   "cell_type": "code",
   "execution_count": null,
   "metadata": {},
   "outputs": [],
   "source": [
    "from datetime import datetime\n",
    "\n",
    "def log_message(message):\n",
    "    with open('.output.txt', 'a') as f:\n",
    "        f.write(\"{}|{}|{}|{}\\n\".format(\n",
    "                                datetime.utcnow(),\n",
    "                                \"Drone1\",\n",
    "                                \"user_message\",\n",
    "                                message\n",
    "                            )\n",
    "                        )"
   ]
  },
  {
   "cell_type": "code",
   "execution_count": null,
   "metadata": {},
   "outputs": [],
   "source": [
    "import os\n",
    "os.remove(\".output.txt\") \n",
    "\n",
    "points = data['point_cloud']\n",
    "for r in range(len(points)):\n",
    "    string = ''\n",
    "    for c in range(len(points[0])):\n",
    "        string += str(points[r][c]) + \",\"\n",
    "    log_message(string)"
   ]
  },
  {
   "cell_type": "code",
   "execution_count": null,
   "metadata": {},
   "outputs": [],
   "source": []
  }
 ],
 "metadata": {
  "kernelspec": {
   "display_name": "venv-SWARM",
   "language": "python",
   "name": "python3"
  },
  "language_info": {
   "codemirror_mode": {
    "name": "ipython",
    "version": 3
   },
   "file_extension": ".py",
   "mimetype": "text/x-python",
   "name": "python",
   "nbconvert_exporter": "python",
   "pygments_lexer": "ipython3",
   "version": "3.10.13"
  }
 },
 "nbformat": 4,
 "nbformat_minor": 2
}
