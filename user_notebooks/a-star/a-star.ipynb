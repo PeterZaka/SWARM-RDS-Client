{
 "cells": [
  {
   "cell_type": "code",
   "execution_count": 3,
   "metadata": {},
   "outputs": [],
   "source": [
    "import math\n",
    "import copy\n",
    "import random\n",
    "import numpy as np\n",
    "import pickle\n",
    "import heapq\n",
    "import matplotlib.pyplot as plt"
   ]
  },
  {
   "cell_type": "code",
   "execution_count": 4,
   "metadata": {},
   "outputs": [],
   "source": [
    "def gridToImage(grid, color_dict):\n",
    "    grid = copy.deepcopy(grid)\n",
    "    for row in grid:\n",
    "        for i in range(len(row)):\n",
    "            row[i] = color_dict.get(row[i], [0, row[i], 0])\n",
    "    plt.imshow(grid)\n",
    "    plt.show()\n",
    "\n",
    "def showPath(start, end, grid, path):\n",
    "    grid = copy.deepcopy(grid)\n",
    "    for n in path:\n",
    "        grid[n[1]][n[0]] = 7\n",
    "\n",
    "    grid[start[1]][start[0]] = 'S'\n",
    "    grid[end[1]][end[0]] = 'E'\n",
    "\n",
    "    color_dict = {\n",
    "        0 : [255, 255, 255],\n",
    "        1 : [0, 0, 0],\n",
    "        7 : [0, 255, 0],\n",
    "        'S' : [0, 0, 255],\n",
    "        'E' : [255, 0, 0]\n",
    "    }\n",
    "\n",
    "    gridToImage(grid, color_dict)\n",
    "\n",
    "def showValues(start, end, grid):\n",
    "    grid = copy.deepcopy(grid)\n",
    "    max_value = max([max(row) for row in grid])\n",
    "    for row in grid:\n",
    "        for i in range(len(row)):\n",
    "            if isinstance(row[i], int) and row[i] == 1:\n",
    "                row[i] = 'O'\n",
    "            elif isinstance(row[i], float):\n",
    "                row[i] /= max_value\n",
    "\n",
    "    grid[start[1]][start[0]] = 'S'\n",
    "    grid[end[1]][end[0]] = 'E'\n",
    "\n",
    "    color_dict = {\n",
    "        0 : [255, 255, 255],\n",
    "        'O' : [0, 0, 0],\n",
    "        7 : [0, 255, 0],\n",
    "        'S' : [0, 0, 255],\n",
    "        'E' : [255, 0, 0]\n",
    "    }\n",
    "\n",
    "    gridToImage(grid, color_dict)"
   ]
  },
  {
   "cell_type": "code",
   "execution_count": 5,
   "metadata": {},
   "outputs": [],
   "source": [
    "class Node:\n",
    "\n",
    "    def __init__(self, pos, parent=None):\n",
    "        self.pos = tuple(pos)\n",
    "        self.parent = parent\n",
    "        self.g = 0 # cost of path from n to start\n",
    "        self.h = 0 # estimated cost of path from n to end\n",
    "        self.f = 0 # total cost = g + h\n",
    "\n",
    "    def __eq__(self, other):\n",
    "        return self.pos[0] == other.pos[0] and self.pos[1] == other.pos[1]\n",
    "    \n",
    "    def __hash__(self):\n",
    "        return hash(self.pos)\n",
    "    "
   ]
  },
  {
   "cell_type": "code",
   "execution_count": 6,
   "metadata": {},
   "outputs": [],
   "source": [
    "import heapq"
   ]
  },
  {
   "cell_type": "code",
   "execution_count": 7,
   "metadata": {},
   "outputs": [],
   "source": [
    "def create_cost_grid(grid, costs):\n",
    "    new_grid = copy.deepcopy(grid)\n",
    "\n",
    "    costs = copy.deepcopy(costs)\n",
    "    check_range = len(costs)\n",
    "    costs.insert(0, -1)\n",
    "    for r in range(len(grid)):\n",
    "        for c in range(len(grid[0])):\n",
    "            if grid[r][c] == 1:\n",
    "                if c == 0 or grid[r][c - 1] == 1:\n",
    "                    left_check = 0\n",
    "                else:\n",
    "                    left_check = -check_range\n",
    "\n",
    "                if c == len(grid[0]) - 1 or grid[r][c + 1] == 1:\n",
    "                    right_check = 0\n",
    "                else:\n",
    "                    right_check = check_range\n",
    "\n",
    "                if r == len(grid) - 1 or grid[r + 1][c] == 1:\n",
    "                    up_check = 0\n",
    "                else:\n",
    "                    up_check = check_range\n",
    "\n",
    "                if r == 0 or grid[r - 1][c] == 1:\n",
    "                    down_check = 0\n",
    "                else:\n",
    "                    down_check = -check_range\n",
    "\n",
    "                for dx in range(left_check, right_check + 1):\n",
    "                    for dy in range(down_check, up_check + 1):\n",
    "                        x, y = c + dx, r + dy\n",
    "                        if 0 <= x < len(grid[0]) and 0 <= y < len(grid) and grid[y][x] != 1:\n",
    "                            new_grid[y][x] = max(new_grid[y][x], costs[max(abs(dx), abs(dy))])\n",
    "\n",
    "    return new_grid"
   ]
  },
  {
   "cell_type": "code",
   "execution_count": 8,
   "metadata": {},
   "outputs": [],
   "source": [
    "def astar(start, end, graph, cost_grid=[]):\n",
    "    \"\"\"\n",
    "    Returns the path traversing graph using a* search\n",
    "\n",
    "    Parameters\n",
    "    ----------\n",
    "    start : tuple or list\n",
    "        (x, y)\n",
    "    end : tuple or list\n",
    "        (x, y)\n",
    "    graph : 2d list\n",
    "        graph to traverse\n",
    "    cost_grid: 2d list\n",
    "        adds a penalty\n",
    "\n",
    "    Returns\n",
    "    -------\n",
    "    list of (x, y) or False\n",
    "        path from start to end if found\n",
    "    \"\"\"\n",
    "\n",
    "    open_list = []\n",
    "    closed_list = set()\n",
    "\n",
    "    start_node = Node(start)\n",
    "    index = 0\n",
    "    open_list.append((start_node.f, index, start_node))\n",
    "    heapq.heapify(open_list)\n",
    "\n",
    "    while len(open_list) > 0:\n",
    "        start_node = heapq.heappop(open_list)[-1]\n",
    "        closed_list.add(start_node)\n",
    "\n",
    "        for dir in [(0, 1), (1, 0), (0, -1), (-1, 0), (1, 1), (1, -1), (-1, -1), (-1, 1)]:\n",
    "            x = dir[0]\n",
    "            y = dir[1]\n",
    "\n",
    "            node = Node((start_node.pos[0] + x, start_node.pos[1] + y), start_node)\n",
    "            if node.pos[0] < 0:\n",
    "                continue\n",
    "            if node.pos[0] >= len(graph[0]):\n",
    "                continue\n",
    "            if node.pos[1] < 0:\n",
    "                continue\n",
    "            if node.pos[1] >= len(graph):\n",
    "                continue\n",
    "\n",
    "            if node in closed_list:\n",
    "                continue\n",
    "\n",
    "            if graph[node.pos[1]][node.pos[0]] == 1:\n",
    "                continue\n",
    "\n",
    "            node.g = start_node.g + math.sqrt(math.pow(start_node.pos[0] - node.pos[0], 2) + math.pow(start_node.pos[1] - node.pos[1], 2))\n",
    "            dup = any(node == n[-1] and n[-1].g <= node.g for n in open_list)\n",
    "            if dup:\n",
    "                continue\n",
    "\n",
    "            node.h = math.sqrt(math.pow(end[0] - node.pos[0], 2) + math.pow(end[1] - node.pos[1], 2))\n",
    "            node.f = node.g + node.h\n",
    "            if len(cost_grid) != 0:\n",
    "                node.f += cost_grid[node.pos[1]][node.pos[0]]\n",
    "\n",
    "\n",
    "            if node.pos[0] == end[0] and node.pos[1] == end[1]:\n",
    "                path = []\n",
    "                while node is not None:\n",
    "                    path.append(node.pos)\n",
    "                    node = node.parent\n",
    "\n",
    "                path = path[::-1]\n",
    "                return path\n",
    "\n",
    "            index += 1\n",
    "            heapq.heappush(open_list, (node.f, index, node))\n",
    "\n",
    "    return []"
   ]
  },
  {
   "cell_type": "code",
   "execution_count": 9,
   "metadata": {},
   "outputs": [
    {
     "data": {
      "text/plain": [
       "<matplotlib.image.AxesImage at 0x111709010>"
      ]
     },
     "execution_count": 9,
     "metadata": {},
     "output_type": "execute_result"
    },
    {
     "data": {
      "image/png": "[encoded data removed]",
      "text/plain": [
       "<Figure size 640x480 with 1 Axes>"
      ]
     },
     "metadata": {},
     "output_type": "display_data"
    }
   ],
   "source": [
    "with open('occupancy_map.pickle', \"rb\") as f:\n",
    "    original_data = pickle.load(f)\n",
    "\n",
    "plt.imshow(original_data, cmap='Greys')"
   ]
  },
  {
   "cell_type": "code",
   "execution_count": 10,
   "metadata": {},
   "outputs": [],
   "source": [
    "def prune_path(path):\n",
    "    new_path = [path[0]]\n",
    "    for i in range(1, len(path) - 1):\n",
    "        dx = path[i][0] - path[i+1][0]\n",
    "        dx2 = path[i-1][0] - path[i][0]\n",
    "\n",
    "        dy = path[i][1] - path[i+1][1]\n",
    "        dy2 = path[i-1][1] - path[i][1]\n",
    "\n",
    "        if dx == dx2 and dy == dy2:\n",
    "            continue\n",
    "        new_path.append(path[i])\n",
    "    new_path.append(path[-1])\n",
    "    return new_path"
   ]
  },
  {
   "cell_type": "code",
   "execution_count": 11,
   "metadata": {},
   "outputs": [],
   "source": [
    "def drawLine(start, end, grid):\n",
    "    grid = copy.deepcopy(grid)\n",
    "\n",
    "    x1, y1 = start\n",
    "    x2, y2 = end\n",
    "\n",
    "    dy = y2 - y1\n",
    "    dx = x2 - x1\n",
    "\n",
    "    length = math.sqrt(dy**2 + dx**2)\n",
    "    vx = dx / length\n",
    "    vy = dy / length\n",
    "\n",
    "    for t in range(1, math.floor(length)):\n",
    "        x = x1 + t * vx\n",
    "        y = y1 + t * vy\n",
    "\n",
    "        grid[math.floor(y), math.floor(x)] = 10\n",
    "        grid[math.ceil(y), math.ceil(x)] = 10\n",
    "    \n",
    "    return grid"
   ]
  },
  {
   "cell_type": "code",
   "execution_count": 12,
   "metadata": {},
   "outputs": [],
   "source": [
    "def isLineOfSightBlocked(start, end, grid, threshold):\n",
    "    grid = copy.deepcopy(grid)\n",
    "\n",
    "    x1, y1 = start\n",
    "    x2, y2 = end\n",
    "\n",
    "    dy = y2 - y1\n",
    "    dx = x2 - x1\n",
    "\n",
    "    length = math.sqrt(dy**2 + dx**2)\n",
    "    vx = dx / length\n",
    "    vy = dy / length\n",
    "\n",
    "    for t in range(1, math.floor(length)):\n",
    "        x = x1 + t * vx\n",
    "        y = y1 + t * vy\n",
    "\n",
    "        floor_cell = grid[math.floor(y), math.floor(x)]\n",
    "        ceil_cell = grid[math.ceil(y), math.ceil(x)]\n",
    "\n",
    "        if floor_cell >= threshold or floor_cell == 1 or ceil_cell >= threshold or ceil_cell == 1:\n",
    "            return True\n",
    "    \n",
    "    return False"
   ]
  },
  {
   "cell_type": "code",
   "execution_count": 13,
   "metadata": {},
   "outputs": [],
   "source": [
    "def line_of_sight_path(path, grid, threshold):\n",
    "    new_path = []\n",
    "\n",
    "    i = 0\n",
    "    while i < len(path):\n",
    "        start = path[i]\n",
    "        new_path.append(start)\n",
    "        for j in range(len(path) - 1, i, -1):\n",
    "            end = path[j]\n",
    "            if not isLineOfSightBlocked(start, end, grid, threshold):\n",
    "                new_path.append(end)\n",
    "                i = j\n",
    "                break\n",
    "\n",
    "        i += 1\n",
    "\n",
    "    return new_path"
   ]
  },
  {
   "cell_type": "code",
   "execution_count": null,
   "metadata": {},
   "outputs": [],
   "source": []
  },
  {
   "cell_type": "code",
   "execution_count": 14,
   "metadata": {},
   "outputs": [],
   "source": [
    "def is_blocked(point, grid, threshold):\n",
    "    cell = grid[point[1], point[0]]\n",
    "    if cell >= threshold or cell == 1:\n",
    "        return True\n",
    "    return False"
   ]
  },
  {
   "cell_type": "code",
   "execution_count": 15,
   "metadata": {},
   "outputs": [],
   "source": [
    "def get_intersection(start, end, grid, threshold):\n",
    "    grid = copy.deepcopy(grid)\n",
    "\n",
    "    x1, y1 = start\n",
    "    x2, y2 = end\n",
    "\n",
    "    start_blocked = grid[y1, x1] >= threshold or grid[y1, x1] == 1\n",
    "\n",
    "    dy = y2 - y1\n",
    "    dx = x2 - x1\n",
    "\n",
    "    length = math.sqrt(dy**2 + dx**2)\n",
    "    vx = dx / length\n",
    "    vy = dy / length\n",
    "\n",
    "    for t in range(1, math.floor(length)):\n",
    "        x = x1 + t * vx\n",
    "        y = y1 + t * vy\n",
    "\n",
    "        floor_cell = (math.floor(x), math.floor(y))\n",
    "        ceil_cell = (math.ceil(x), math.ceil(y))\n",
    "\n",
    "        if is_blocked(floor_cell, grid, threshold) or is_blocked(ceil_cell, grid, threshold):\n",
    "            if not start_blocked:\n",
    "                t -= 1\n",
    "\n",
    "                x = x1 + t * vx\n",
    "                y = y1 + t * vy\n",
    "\n",
    "                round_cell = (round(x), round(y))\n",
    "\n",
    "                return round_cell\n",
    "        else:\n",
    "            if start_blocked:\n",
    "                t += 1\n",
    "\n",
    "                x = x1 + t * vx\n",
    "                y = y1 + t * vy\n",
    "\n",
    "                round_cell = (round(x), round(y))\n",
    "\n",
    "                return round_cell\n",
    "\n",
    "    return ()"
   ]
  },
  {
   "cell_type": "code",
   "execution_count": 16,
   "metadata": {},
   "outputs": [],
   "source": [
    "def is_line_of_sight_blocked(start, end, grid, threshold):\n",
    "    x1, y1 = start\n",
    "    x2, y2 = end\n",
    "\n",
    "    dy = y2 - y1\n",
    "    dx = x2 - x1\n",
    "\n",
    "    length = math.sqrt(dy**2 + dx**2)\n",
    "    vx = dx / length\n",
    "    vy = dy / length\n",
    "\n",
    "    for t in range(1, math.floor(length) + 1):\n",
    "        x = x1 + t * vx\n",
    "        y = y1 + t * vy\n",
    "\n",
    "        floor_cell = (math.floor(x), math.floor(y))\n",
    "        ceil_cell = (math.ceil(x), math.ceil(y))\n",
    "\n",
    "        if is_blocked(floor_cell, grid, threshold) or is_blocked(ceil_cell, grid, threshold):\n",
    "            return True\n",
    "\n",
    "    return False"
   ]
  },
  {
   "cell_type": "code",
   "execution_count": 28,
   "metadata": {},
   "outputs": [],
   "source": [
    "def fix_path(path, grid, costs, threshold):\n",
    "    data_cost = create_cost_grid(grid, costs)\n",
    "    print(f'Inital path: {path}')\n",
    "\n",
    "    # remove duplicates\n",
    "#    path = list(dict.fromkeys(path))\n",
    "\n",
    "    new_points = []\n",
    "    for i in range(0, len(path) - 1):\n",
    "        new_points.append(path[i])\n",
    "        intersection = get_intersection(path[i], path[i+1], data_cost, threshold)\n",
    "        if len(intersection) != 0:\n",
    "            new_points.append(intersection)\n",
    "    new_points.append(path[-1])\n",
    "\n",
    "    new_points = [point for point in new_points[1:-1] if not is_blocked(point, data_cost, threshold)]\n",
    "    new_points.insert(0, path[0])\n",
    "    new_points.append(path[-1])\n",
    "\n",
    "    # remove duplicates\n",
    "    new_points = list(dict.fromkeys(new_points))\n",
    "\n",
    "    new_path = []\n",
    "    for i in range(0, len(new_points) - 1):\n",
    "        if is_line_of_sight_blocked(new_points[i], new_points[i+1], data_cost, threshold):\n",
    "            path_between_points = astar(new_points[i], new_points[i+1], grid, data_cost)\n",
    "        else:\n",
    "            path_between_points = [new_points[i], new_points[i+1]]\n",
    "        new_path += path_between_points[:-1]\n",
    "    new_path.append(path[-1])\n",
    "\n",
    "#    new_path = prune_path(new_path)\n",
    "#    new_path = line_of_sight_path(new_path, data_cost, threshold)\n",
    "\n",
    "#    print(f'Final path: {new_path}')\n",
    "    return new_path"
   ]
  },
  {
   "cell_type": "code",
   "execution_count": 59,
   "metadata": {},
   "outputs": [
    {
     "name": "stdout",
     "output_type": "stream",
     "text": [
      "Inital path: [(8, 3), (7, 6), (7, 10), (19, 10)]\n",
      "Final path: [(8, 3), (7, 2), (3, 2), (2, 3), (2, 10), (3, 11), (8, 11), (19, 10)]\n"
     ]
    },
    {
     "data": {
      "text/plain": [
       "<matplotlib.image.AxesImage at 0x1125ba250>"
      ]
     },
     "execution_count": 59,
     "metadata": {},
     "output_type": "execute_result"
    },
    {
     "data": {
      "image/png": "[encoded data removed]",
      "text/plain": [
       "<Figure size 640x480 with 1 Axes>"
      ]
     },
     "metadata": {},
     "output_type": "display_data"
    }
   ],
   "source": [
    "data = [\n",
    "    [0, 0, 0, 0, 0, 0, 0, 0, 0, 0, 0, 0, 0, 0, 0, 0, 0, 0, 0, 0],\n",
    "    [0, 0, 0, 0, 0, 0, 0, 0, 0, 0, 0, 0, 0, 0, 0, 0, 0, 0, 0, 0],\n",
    "    [0, 0, 0, 0, 0, 0, 0, 0, 0, 0, 0, 0, 0, 0, 0, 0, 0, 0, 0, 0],\n",
    "    [0, 0, 0, 0, 0, 0, 0, 0, 0, 0, 0, 0, 0, 0, 0, 0, 0, 0, 0, 0],\n",
    "    [0, 0, 0, 0, 0, 0, 0, 0, 0, 0, 0, 0, 0, 0, 0, 0, 0, 0, 0, 0],\n",
    "    [0, 0, 0, 0, 0, 1, 0, 0, 0, 1, 1, 1, 1, 1, 1, 1, 1, 0, 0, 0],\n",
    "    [0, 0, 0, 0, 0, 1, 0, 0, 0, 0, 0, 0, 0, 0, 0, 0, 0, 0, 0, 0],\n",
    "    [0, 0, 0, 0, 0, 1, 0, 0, 0, 0, 0, 0, 0, 0, 0, 0, 0, 0, 0, 0],\n",
    "    [0, 0, 0, 0, 0, 1, 0, 0, 0, 0, 0, 0, 0, 0, 0, 0, 0, 0, 0, 0],\n",
    "    [0, 0, 0, 0, 0, 0, 0, 0, 0, 0, 0, 0, 0, 0, 0, 0, 0, 0, 0, 0],\n",
    "    [0, 0, 0, 0, 0, 0, 0, 0, 0, 0, 0, 0, 0, 0, 0, 0, 0, 0, 0, 0],\n",
    "    [0, 0, 0, 0, 0, 0, 0, 0, 0, 0, 0, 0, 0, 0, 0, 0, 0, 0, 0, 0],\n",
    "    [0, 0, 0, 0, 0, 0, 0, 0, 0, 0, 0, 0, 0, 0, 0, 0, 0, 0, 0, 0],\n",
    "    [0, 0, 0, 0, 0, 0, 0, 0, 0, 0, 0, 0, 0, 0, 0, 0, 0, 0, 0, 0],\n",
    "    [0, 0, 0, 0, 0, 0, 0, 0, 0, 0, 0, 0, 0, 0, 0, 0, 0, 0, 0, 0],\n",
    "    [0, 0, 0, 0, 0, 0, 0, 0, 0, 0, 0, 0, 0, 0, 0, 0, 0, 0, 0, 0],\n",
    "    [0, 0, 0, 0, 0, 0, 0, 0, 0, 0, 0, 0, 0, 0, 0, 0, 0, 0, 0, 0],\n",
    "    [0, 0, 0, 0, 0, 0, 0, 0, 0, 0, 0, 0, 0, 0, 0, 0, 0, 0, 0, 0],\n",
    "    [0, 0, 0, 0, 0, 0, 0, 0, 0, 0, 0, 0, 0, 0, 0, 0, 0, 0, 0, 0],\n",
    "    [0, 0, 0, 0, 0, 0, 0, 0, 0, 0, 0, 0, 0, 0, 0, 0, 0, 0, 0, 0],\n",
    "    [0, 0, 0, 0, 0, 0, 0, 0, 0, 0, 0, 0, 0, 0, 0, 0, 0, 0, 0, 0],\n",
    "    [0, 0, 0, 0, 0, 0, 0, 0, 0, 0, 0, 0, 0, 0, 0, 0, 0, 0, 0, 0],\n",
    "    [0, 0, 0, 0, 0, 0, 0, 0, 0, 0, 0, 0, 0, 0, 0, 0, 0, 0, 0, 0],\n",
    "]\n",
    "data = np.array(data, dtype=float)\n",
    "\n",
    "#data_cost = create_cost_grid(data, [5, 2.5, 1.1])\n",
    "#path = astar((10, 3), (19, 10), data, cost_grid=data_cost)\n",
    "\n",
    "path = [\n",
    "    (8, 3),\n",
    "    (7, 6),\n",
    "    (7, 10),\n",
    "    (19, 10)\n",
    "]\n",
    "\n",
    "#data[5, 6] = 1\n",
    "data[5, 7] = 1\n",
    "data[5, 8] = 1\n",
    "\n",
    "grid = copy.deepcopy(data)\n",
    "for x, y in path:\n",
    "    grid[y][x] = -1\n",
    "\n",
    "path = prune_path(path)\n",
    "path = line_of_sight_path(path, data_cost, 5)\n",
    "\n",
    "path = fix_path(path, data, [1000, 500, 2.5, 1.1], 5)\n",
    "\n",
    "data_cost = create_cost_grid(data, [10, 5, 2.5, 1.1]) \n",
    "for x, y in path:\n",
    "    grid[y][x] = -5\n",
    "\n",
    "path = prune_path(path)\n",
    "path = line_of_sight_path(path, data_cost, 5)\n",
    "for x, y in path:\n",
    "    grid[y][x] = -10\n",
    "\n",
    "print(f'Final path: {path}')\n",
    "\n",
    "plt.imshow(grid, cmap='Blues')"
   ]
  },
  {
   "cell_type": "code",
   "execution_count": 38,
   "metadata": {},
   "outputs": [
    {
     "name": "stdout",
     "output_type": "stream",
     "text": [
      "Inital path: [(0, 10), (11, 15), (13, 15), (17, 11), (19, 10)]\n",
      "Final path: [(0, 10), (8, 14), (8, 16), (11, 19), (11, 21), (12, 22), (17, 17), (19, 10)]\n"
     ]
    },
    {
     "data": {
      "text/plain": [
       "<matplotlib.image.AxesImage at 0x111ce0fd0>"
      ]
     },
     "execution_count": 38,
     "metadata": {},
     "output_type": "execute_result"
    },
    {
     "data": {
      "image/png": "[encoded data removed]",
      "text/plain": [
       "<Figure size 640x480 with 1 Axes>"
      ]
     },
     "metadata": {},
     "output_type": "display_data"
    }
   ],
   "source": [
    "data = [\n",
    "    [0, 0, 0, 0, 0, 0, 0, 0, 0, 0, 0, 0, 0, 0, 0, 0, 0, 0, 0, 0],\n",
    "    [0, 0, 0, 0, 0, 0, 0, 0, 0, 0, 0, 0, 0, 0, 0, 0, 0, 0, 0, 0],\n",
    "    [0, 0, 0, 0, 0, 0, 0, 0, 0, 0, 0, 0, 0, 0, 0, 0, 0, 0, 0, 0],\n",
    "    [0, 0, 0, 0, 0, 0, 0, 0, 0, 0, 0, 0, 0, 0, 0, 0, 0, 0, 0, 0],\n",
    "    [0, 0, 0, 0, 0, 0, 0, 0, 0, 0, 0, 0, 1, 0, 0, 0, 0, 0, 0, 0],\n",
    "    [0, 0, 0, 0, 0, 0, 0, 0, 0, 0, 0, 0, 1, 0, 0, 0, 0, 0, 0, 0],\n",
    "    [0, 0, 0, 0, 0, 0, 0, 0, 0, 0, 0, 0, 1, 0, 0, 0, 0, 0, 0, 0],\n",
    "    [0, 0, 0, 0, 0, 0, 0, 0, 0, 0, 0, 0, 1, 0, 0, 0, 0, 0, 0, 0],\n",
    "    [0, 0, 0, 0, 0, 0, 0, 0, 0, 0, 0, 0, 1, 0, 0, 0, 0, 0, 0, 0],\n",
    "    [0, 0, 0, 0, 0, 0, 0, 0, 0, 0, 0, 0, 1, 0, 0, 0, 0, 0, 0, 0],\n",
    "    [0, 0, 0, 0, 0, 0, 0, 0, 0, 0, 0, 0, 1, 0, 0, 0, 0, 0, 0, 0],\n",
    "    [0, 0, 0, 0, 0, 0, 0, 0, 0, 0, 0, 0, 1, 0, 0, 0, 0, 0, 0, 0],\n",
    "    [0, 0, 0, 0, 0, 0, 0, 0, 0, 0, 0, 0, 1, 0, 0, 0, 0, 0, 0, 0],\n",
    "    [0, 0, 0, 0, 0, 0, 0, 0, 0, 0, 0, 0, 1, 0, 0, 0, 0, 0, 0, 0],\n",
    "    [0, 0, 0, 0, 0, 0, 0, 0, 0, 0, 0, 0, 0, 0, 0, 0, 0, 0, 0, 0],\n",
    "    [0, 0, 0, 0, 0, 0, 0, 0, 0, 0, 0, 0, 0, 0, 0, 0, 0, 0, 0, 0],\n",
    "    [0, 0, 0, 0, 0, 0, 0, 0, 0, 0, 0, 0, 0, 0, 0, 0, 0, 0, 0, 0],\n",
    "    [0, 0, 0, 0, 0, 0, 0, 0, 0, 0, 0, 0, 0, 0, 0, 0, 0, 0, 0, 0],\n",
    "    [0, 0, 0, 0, 0, 0, 0, 0, 0, 0, 0, 0, 0, 0, 0, 0, 0, 0, 0, 0],\n",
    "    [0, 0, 0, 0, 0, 0, 0, 0, 0, 0, 0, 0, 0, 0, 0, 0, 0, 0, 0, 0],\n",
    "    [0, 0, 0, 0, 0, 0, 0, 0, 0, 0, 0, 0, 0, 0, 0, 0, 0, 0, 0, 0],\n",
    "    [0, 0, 0, 0, 0, 0, 0, 0, 0, 0, 0, 0, 0, 0, 0, 0, 0, 0, 0, 0],\n",
    "    [0, 0, 0, 0, 0, 0, 0, 0, 0, 0, 0, 0, 0, 0, 0, 0, 0, 0, 0, 0],\n",
    "]\n",
    "data = np.array(data, dtype=float)\n",
    "\n",
    "data_cost = create_cost_grid(data, [5, 2.5, 1.1])\n",
    "path = astar((0, 10), (19, 10), data, cost_grid=data_cost)\n",
    "\n",
    "data[14, 12] = 1\n",
    "data[15, 12] = 1\n",
    "data[16, 12] = 1\n",
    "data[17, 12] = 1\n",
    "data[17, 11] = 1\n",
    "data[17, 10] = 1\n",
    "data[18, 12] = 1\n",
    "data[19, 12] = 1\n",
    "data[20, 12] = 1\n",
    "\n",
    "data[21, 12] = 1\n",
    "\n",
    "data[7, 13] = 1\n",
    "data[7, 14] = 1\n",
    "data[7, 15] = 1\n",
    "data[7, 16] = 1\n",
    "data[7, 17] = 1\n",
    "\n",
    "grid = copy.deepcopy(data)\n",
    "for x, y in path:\n",
    "    grid[y][x] = -1\n",
    "\n",
    "path = prune_path(path)\n",
    "path = line_of_sight_path(path, data_cost, 5)\n",
    "\n",
    "path = fix_path(path, data, [10, 5, 2.5, 1.1], 5)\n",
    "\n",
    "data_cost = create_cost_grid(data, [10, 5, 2.5, 1.1]) \n",
    "for x, y in path:\n",
    "    grid[y][x] = -5\n",
    "\n",
    "path = prune_path(path)\n",
    "path = line_of_sight_path(path, data_cost, 5)\n",
    "for x, y in path:\n",
    "    grid[y][x] = -10\n",
    "\n",
    "print(f'Final path: {path}')\n",
    "\n",
    "plt.imshow(grid, cmap='Blues')"
   ]
  },
  {
   "cell_type": "code",
   "execution_count": 26,
   "metadata": {},
   "outputs": [
    {
     "data": {
      "text/plain": [
       "[(11, 15), (11, 15), (13, 15), (17, 11), (19, 10)]"
      ]
     },
     "execution_count": 26,
     "metadata": {},
     "output_type": "execute_result"
    }
   ],
   "source": [
    "path"
   ]
  },
  {
   "cell_type": "code",
   "execution_count": 23,
   "metadata": {},
   "outputs": [
    {
     "data": {
      "text/plain": [
       "[(11, 15), (13, 15), (17, 11)]"
      ]
     },
     "execution_count": 23,
     "metadata": {},
     "output_type": "execute_result"
    }
   ],
   "source": [
    "path[1:-1]"
   ]
  },
  {
   "cell_type": "code",
   "execution_count": null,
   "metadata": {},
   "outputs": [],
   "source": []
  },
  {
   "cell_type": "code",
   "execution_count": null,
   "metadata": {},
   "outputs": [],
   "source": []
  },
  {
   "cell_type": "code",
   "execution_count": null,
   "metadata": {},
   "outputs": [],
   "source": []
  },
  {
   "cell_type": "code",
   "execution_count": null,
   "metadata": {},
   "outputs": [],
   "source": []
  },
  {
   "cell_type": "code",
   "execution_count": null,
   "metadata": {},
   "outputs": [
    {
     "data": {
      "text/plain": [
       "<matplotlib.image.AxesImage at 0x1472d29d0>"
      ]
     },
     "execution_count": 160,
     "metadata": {},
     "output_type": "execute_result"
    },
    {
     "data": {
      "image/png": "[encoded data removed]",
      "text/plain": [
       "<Figure size 640x480 with 1 Axes>"
      ]
     },
     "metadata": {},
     "output_type": "display_data"
    }
   ],
   "source": [
    "data = original_data.copy()\n",
    "\n",
    "data_cost = create_cost_grid(data, [10, 5, 2.5, 1])\n",
    "path = astar((0, 0), (199, 199), data, cost_grid=data_cost)\n",
    "\n",
    "#path = prune_path(path)\n",
    "#path = line_of_sight_path(path, data_cost, 5)\n",
    "\n",
    "#path = fix_path(path, data, [10, 5, 2.5, 1], 10)\n",
    "\n",
    "grid = copy.deepcopy(data)\n",
    "for x, y in path:\n",
    "    grid[y][x] = -1\n",
    "plt.imshow(grid, cmap='Greys')"
   ]
  },
  {
   "cell_type": "code",
   "execution_count": null,
   "metadata": {},
   "outputs": [
    {
     "name": "stdout",
     "output_type": "stream",
     "text": [
      "Inital path: [(0, 0), (36, 36), (36, 56), (58, 81), (120, 143), (135, 143), (185, 193), (199, 199)]\n"
     ]
    },
    {
     "data": {
      "text/plain": [
       "<matplotlib.image.AxesImage at 0x1471ae450>"
      ]
     },
     "execution_count": 161,
     "metadata": {},
     "output_type": "execute_result"
    },
    {
     "data": {
      "image/png": "[encoded data removed]",
      "text/plain": [
       "<Figure size 640x480 with 1 Axes>"
      ]
     },
     "metadata": {},
     "output_type": "display_data"
    }
   ],
   "source": [
    "data = original_data.copy()\n",
    "\n",
    "data_cost = create_cost_grid(data, [10, 5, 2.5, 1])\n",
    "path = astar((0, 0), (199, 199), data, cost_grid=data_cost)\n",
    "\n",
    "path = prune_path(path)\n",
    "path = line_of_sight_path(path, data_cost, 5)\n",
    "\n",
    "path = fix_path(path, data, [10, 5, 2.5, 1], 5)\n",
    "\n",
    "grid = copy.deepcopy(data)\n",
    "for x, y in path:\n",
    "    grid[y][x] = -1\n",
    "plt.imshow(grid, cmap='Greys')"
   ]
  },
  {
   "cell_type": "code",
   "execution_count": null,
   "metadata": {},
   "outputs": [],
   "source": []
  }
 ],
 "metadata": {
  "kernelspec": {
   "display_name": "venv-food",
   "language": "python",
   "name": "python3"
  },
  "language_info": {
   "codemirror_mode": {
    "name": "ipython",
    "version": 3
   },
   "file_extension": ".py",
   "mimetype": "text/x-python",
   "name": "python",
   "nbconvert_exporter": "python",
   "pygments_lexer": "ipython3",
   "version": "3.11.5"
  },
  "orig_nbformat": 4
 },
 "nbformat": 4,
 "nbformat_minor": 2
}
