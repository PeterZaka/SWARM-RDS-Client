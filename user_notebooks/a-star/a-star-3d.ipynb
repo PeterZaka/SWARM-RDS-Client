{
 "cells": [
  {
   "cell_type": "code",
   "execution_count": null,
   "metadata": {},
   "outputs": [],
   "source": [
    "import math\n",
    "import copy\n",
    "import random\n",
    "import numpy as np\n",
    "import pickle\n",
    "import heapq\n",
    "import matplotlib.pyplot as plt\n",
    "import open3d as o3d\n",
    "import re"
   ]
  },
  {
   "cell_type": "markdown",
   "metadata": {},
   "source": [
    "## Helper functions"
   ]
  },
  {
   "cell_type": "markdown",
   "metadata": {},
   "source": [
    "### Visualize"
   ]
  },
  {
   "cell_type": "code",
   "execution_count": null,
   "metadata": {},
   "outputs": [],
   "source": [
    "def gridToImage(grid, color_dict):\n",
    "    grid = copy.deepcopy(grid)\n",
    "    for row in grid:\n",
    "        for i in range(len(row)):\n",
    "            row[i] = color_dict.get(row[i], [0, row[i], 0])\n",
    "    plt.imshow(grid)\n",
    "    plt.show()\n",
    "\n",
    "def showPath(start, end, grid, path):\n",
    "    grid = copy.deepcopy(grid)\n",
    "    for n in path:\n",
    "        grid[n[1]][n[0]] = 7\n",
    "\n",
    "    grid[start[1]][start[0]] = 'S'\n",
    "    grid[end[1]][end[0]] = 'E'\n",
    "\n",
    "    color_dict = {\n",
    "        0 : [255, 255, 255],\n",
    "        1 : [0, 0, 0],\n",
    "        7 : [0, 255, 0],\n",
    "        'S' : [0, 0, 255],\n",
    "        'E' : [255, 0, 0]\n",
    "    }\n",
    "\n",
    "    gridToImage(grid, color_dict)\n",
    "\n",
    "def showValues(start, end, grid):\n",
    "    grid = copy.deepcopy(grid)\n",
    "    max_value = max([max(row) for row in grid])\n",
    "    for row in grid:\n",
    "        for i in range(len(row)):\n",
    "            if isinstance(row[i], int) and row[i] == 1:\n",
    "                row[i] = 'O'\n",
    "            elif isinstance(row[i], float):\n",
    "                row[i] /= max_value\n",
    "\n",
    "    grid[start[1]][start[0]] = 'S'\n",
    "    grid[end[1]][end[0]] = 'E'\n",
    "\n",
    "    color_dict = {\n",
    "        0 : [255, 255, 255],\n",
    "        'O' : [0, 0, 0],\n",
    "        7 : [0, 255, 0],\n",
    "        'S' : [0, 0, 255],\n",
    "        'E' : [255, 0, 0]\n",
    "    }\n",
    "\n",
    "    gridToImage(grid, color_dict)"
   ]
  },
  {
   "cell_type": "code",
   "execution_count": null,
   "metadata": {},
   "outputs": [],
   "source": [
    "def get_points(s):\n",
    "    pattern = re.compile(r'user_message\\|([0-9\\.\\,\\-e]*,)')\n",
    "    new_points = []\n",
    "    for i in re.findall(pattern, s):\n",
    "        i = i.split(',')[:-1]\n",
    "        if len(i) == 0:\n",
    "            continue\n",
    "        new_points.append([float(x) for x in i])\n",
    "    new_points = np.array(new_points)\n",
    "    return new_points\n",
    "\n",
    "def visualize_pointcloud(pcd, show_draw=False):\n",
    "    pcd = copy.deepcopy(pcd)\n",
    "    o3d.visualization.draw_plotly([pcd])\n",
    "    if show_draw:\n",
    "        R = pcd.get_rotation_matrix_from_xyz((-np.pi / 2, 0, np.pi / 2))\n",
    "        pcd.rotate(R, center=(0, 0, 0))\n",
    "        o3d.visualization.draw([pcd], show_ui=True, point_size=5)"
   ]
  },
  {
   "cell_type": "code",
   "execution_count": null,
   "metadata": {},
   "outputs": [],
   "source": [
    "def binary_array_to_points(binary_array):\n",
    "    points = []\n",
    "    for z in range(len(binary_array)):\n",
    "        for y in range(len(binary_array[z])):\n",
    "            for x in range(len(binary_array[z][y])):\n",
    "                if binary_array[z][y][x] == 1:\n",
    "                    points.append((x, y, z))\n",
    "    return points"
   ]
  },
  {
   "cell_type": "markdown",
   "metadata": {},
   "source": [
    "### A star helpers"
   ]
  },
  {
   "cell_type": "code",
   "execution_count": null,
   "metadata": {},
   "outputs": [],
   "source": [
    "def create_cost_grid(grid, check_range):\n",
    "    new_grid = copy.deepcopy(grid)\n",
    "\n",
    "    for l in range(len(grid)):\n",
    "        for r in range(len(grid[0])):\n",
    "            for c in range(len(grid[0][0])):\n",
    "                if grid[l][r][c] == 1:\n",
    "                    if c == 0 or grid[l][r][c - 1] == 1:\n",
    "                        left_check = 0\n",
    "                    else:\n",
    "                        left_check = -check_range\n",
    "\n",
    "                    if c == len(grid[0][0]) - 1 or grid[l][r][c + 1] == 1:\n",
    "                        right_check = 0\n",
    "                    else:\n",
    "                        right_check = check_range\n",
    "\n",
    "                    if r == len(grid[0]) - 1 or grid[l][r + 1][c] == 1:\n",
    "                        up_check = 0\n",
    "                    else:\n",
    "                        up_check = check_range\n",
    "\n",
    "                    if r == 0 or grid[l][r - 1][c] == 1:\n",
    "                        down_check = 0\n",
    "                    else:\n",
    "                        down_check = -check_range\n",
    "\n",
    "                    layer_down_chcek = -check_range\n",
    "                    layer_up_check = check_range\n",
    "                    for dx in range(left_check, right_check + 1):\n",
    "                        for dy in range(down_check, up_check + 1):\n",
    "                            for dz in range(layer_down_chcek, layer_up_check + 1):\n",
    "                                x, y, z = c + dx, r + dy, l + dz\n",
    "                                if 0 <= x < len(grid[0][0]) and 0 <= y < len(grid[0]) and 0 <= z < len(grid) and grid[z][y][x] != 1:\n",
    "                                    cost = min((check_range**2), (check_range**2) / math.sqrt(dx**2 + dy**2 + dz**2))\n",
    "                                    new_grid[z][y][x] = max(new_grid[z][y][x], cost)\n",
    "\n",
    "    return new_grid"
   ]
  },
  {
   "cell_type": "code",
   "execution_count": null,
   "metadata": {},
   "outputs": [],
   "source": [
    "def get_directions():\n",
    "    directions = []\n",
    "    for x in [-1, 0, 1]:\n",
    "        for y in [-1, 0, 1]:\n",
    "            for z in [-1, 0, 1]:\n",
    "                if (x, y, z) != (0, 0, 0):  # Exclude the zero vector\n",
    "                    directions.append((x, y, z))\n",
    "    return directions"
   ]
  },
  {
   "cell_type": "code",
   "execution_count": null,
   "metadata": {},
   "outputs": [],
   "source": [
    "def get_distance(start, end, scales):\n",
    "    return math.hypot((start[0] - end[0]) * scales[0], (start[1] - end[1]) * scales[1], (start[2] - end[2]) * scales[2])"
   ]
  },
  {
   "cell_type": "markdown",
   "metadata": {},
   "source": [
    "## astar function"
   ]
  },
  {
   "cell_type": "code",
   "execution_count": null,
   "metadata": {},
   "outputs": [],
   "source": [
    "def astar(start, end, graph, scales, cost_grid=[]):\n",
    "    \"\"\"\n",
    "    Returns the path traversing graph using a* search\n",
    "\n",
    "    Parameters\n",
    "    ----------\n",
    "    start : tuple or list\n",
    "        (x, y)\n",
    "    end : tuple or list\n",
    "        (x, y)\n",
    "    graph : 3d list\n",
    "        graph to traverse\n",
    "    cost_grid: 3d list\n",
    "        adds a penalty\n",
    "\n",
    "    Returns\n",
    "    -------\n",
    "    list of (x, y, z) or False\n",
    "        path from start to end if found\n",
    "    \"\"\"\n",
    "    \n",
    "    if graph[start[2]][start[1]][start[0]] == 1 or graph[end[2]][end[1]][end[0]] == 1:\n",
    "        return []\n",
    "\n",
    "    open_list = []\n",
    "    closed_list = set()\n",
    "    open_set = {}\n",
    "\n",
    "    # f_score. g_score, pos\n",
    "    start_node = (0, 0, start)\n",
    "    index = 0\n",
    "    open_list.append((0, index, start_node))\n",
    "    heapq.heapify(open_list)\n",
    "\n",
    "    parent = {}\n",
    "\n",
    "    while open_list:\n",
    "        start_f_score, start_g_score, start_pos = heapq.heappop(open_list)[-1]\n",
    "        closed_list.add(start_pos)\n",
    "\n",
    "        if start_pos[0] == end[0] and start_pos[1] == end[1] and start_pos[2] == end[2]:\n",
    "            pos = start_pos\n",
    "            path = []\n",
    "            while pos in parent:\n",
    "                path.append(pos)\n",
    "                pos = parent[pos]\n",
    "\n",
    "            path = path[::-1]\n",
    "            return path, [node[2] for _, _, node in open_list], closed_list\n",
    "\n",
    "#        for dir in get_directions():\n",
    "        for dir in [(-1, -1, -1), (-1, -1, 0), (-1, -1, 1), (-1, 0, -1), (-1, 0, 0), (-1, 0, 1), (-1, 1, -1), (-1, 1, 0), (-1, 1, 1), (0, -1, -1), (0, -1, 0), (0, -1, 1), (0, 0, -1), (0, 0, 1), (0, 1, -1), (0, 1, 0), (0, 1, 1), (1, -1, -1), (1, -1, 0), (1, -1, 1), (1, 0, -1), (1, 0, 0), (1, 0, 1), (1, 1, -1), (1, 1, 0), (1, 1, 1)]:\n",
    "            x = dir[0]\n",
    "            y = dir[1]\n",
    "            z = dir[2]\n",
    "\n",
    "            pos = (start_pos[0] + x, start_pos[1] + y, start_pos[2] + z)\n",
    "\n",
    "            if pos in closed_list:\n",
    "                continue\n",
    "\n",
    "            if pos[0] < 0:\n",
    "                continue\n",
    "            if pos[0] >= len(graph[0][0]):\n",
    "                continue\n",
    "            if pos[1] < 0:\n",
    "                continue\n",
    "            if pos[1] >= len(graph[0]):\n",
    "                continue\n",
    "            if pos[2] < 0:\n",
    "                continue\n",
    "            if pos[2] >= len(graph):\n",
    "                continue\n",
    "\n",
    "            if graph[pos[2]][pos[1]][pos[0]] == 1:\n",
    "                continue\n",
    "\n",
    "            g_score = start_g_score + get_distance(start_pos, pos, scales)\n",
    "            h_score = get_distance(end, pos, scales)\n",
    "            f_score = g_score + h_score\n",
    "\n",
    "            if len(cost_grid) != 0:\n",
    "                f_score += cost_grid[pos[2]][pos[1]][pos[0]]\n",
    "\n",
    "            if pos in open_set:\n",
    "                if open_set[pos] <= g_score:\n",
    "                    continue\n",
    "\n",
    "            open_set[pos] = g_score\n",
    "            parent[pos] = start_pos\n",
    "            index += 1\n",
    "            heapq.heappush(open_list, (f_score, index, (f_score, g_score, pos)))\n",
    "\n",
    "    return []"
   ]
  },
  {
   "cell_type": "markdown",
   "metadata": {},
   "source": [
    "## Occupancy map functions"
   ]
  },
  {
   "cell_type": "code",
   "execution_count": null,
   "metadata": {},
   "outputs": [],
   "source": [
    "def point_cloud_to_2d_occupancy_map(points, grid_size, scale, z_range):\n",
    "  (z_min, z_max) = z_range\n",
    "  mask = (points[:, 2] >= z_min) & (points[:, 2] <= z_max)\n",
    "  points = points[mask, :2]\n",
    "\n",
    "  binary_grid = np.zeros(grid_size, dtype=float)\n",
    "  for point in points:\n",
    "    x, y = point\n",
    "    grid_x = int(grid_size[0] / 2 + x / scale[0])\n",
    "    grid_y = int(grid_size[1] / 2 + y / scale[1])\n",
    "    if 0 <= grid_x < grid_size[0] and 0 <= grid_y < grid_size[1]:\n",
    "      binary_grid[grid_x, grid_y] = 1\n",
    "\n",
    "  binary_grid = binary_grid.T\n",
    "\n",
    "  return binary_grid\n",
    "\n",
    "def point_cloud_to_3d_occupancy_map(points, grid_size, scale, z_start):\n",
    "    \"\"\"\n",
    "    Convert point cloud to a 3d occupancy map\n",
    "\n",
    "    Parameters\n",
    "    ----------\n",
    "    points : list of points\n",
    "        [(x, y, z), ...]\n",
    "    grid_size : size of grid to be returned\n",
    "        (x, y, z)\n",
    "    scale : how each dimension is scaled\n",
    "        (x, y, z)\n",
    "    z_start : the bottom of z planes\n",
    "\n",
    "    Returns\n",
    "    -------\n",
    "    3d binary grid\n",
    "    \"\"\"\n",
    "\n",
    "    grid = []\n",
    "    for i in range(grid_size[2]):\n",
    "        z_min = z_start + scale[2] * i\n",
    "        z_max = z_start + scale[2] * (i + 1)\n",
    "        new_grid = point_cloud_to_2d_occupancy_map(points, (grid_size[0], grid_size[1]), (scale[0], scale[1]), (z_min, z_max))\n",
    "        grid.append(new_grid)\n",
    "\n",
    "    return grid"
   ]
  },
  {
   "cell_type": "markdown",
   "metadata": {},
   "source": [
    "## Testing"
   ]
  },
  {
   "cell_type": "markdown",
   "metadata": {},
   "source": [
    "Full pipeline"
   ]
  },
  {
   "cell_type": "code",
   "execution_count": null,
   "metadata": {},
   "outputs": [],
   "source": [
    "with open('../lidar/points.txt') as f:\n",
    "    s = f.read()\n",
    "\n",
    "points = get_points(s)\n",
    "\n",
    "grid = point_cloud_to_3d_occupancy_map(points, (500, 500, 30), (1, 1, 1), -2)\n",
    "grid = np.array(grid)\n",
    "\n",
    "pos = binary_array_to_points(grid)\n",
    "cost_grid = create_cost_grid(grid, 5)\n",
    "\n",
    "pcl = o3d.geometry.PointCloud()\n",
    "pcl.points = o3d.utility.Vector3dVector(pos)\n",
    "\n",
    "visualize_pointcloud(pcl, False)"
   ]
  },
  {
   "cell_type": "code",
   "execution_count": null,
   "metadata": {},
   "outputs": [],
   "source": [
    "path, open_list, closed_list = astar((250, 250, 1), (350, 250, 1), grid, (1, 1, 1), cost_grid)\n",
    "print(len(path))\n",
    "print(len(open_list))\n",
    "print(len(closed_list))\n",
    "#path = closed_list\n",
    "\n",
    "pcl = o3d.geometry.PointCloud()\n",
    "pcl.points = o3d.utility.Vector3dVector(pos)\n",
    "\n",
    "pcl.points.extend(o3d.utility.Vector3dVector(path))\n",
    "\n",
    "colors = [(0, 0, 0)] * len(pos)\n",
    "colors.extend([(255, 0, 0) for i in range(len(path))])\n",
    "pcl.colors = o3d.utility.Vector3dVector(colors)\n",
    "\n",
    "visualize_pointcloud(pcl, False)"
   ]
  },
  {
   "cell_type": "code",
   "execution_count": null,
   "metadata": {},
   "outputs": [],
   "source": [
    "data = path\n",
    "\n",
    "pcl = o3d.geometry.PointCloud()\n",
    "pcl.points = o3d.utility.Vector3dVector(pos)\n",
    "\n",
    "pcl.points.extend(o3d.utility.Vector3dVector(data))\n",
    "\n",
    "m =217\n",
    "ma =348\n",
    "colors = [(0, (ma - y)/ m, 0) for x, y, z in pos]\n",
    "colors = np.array(colors)\n",
    "pos = np.array(pos)\n",
    "colors[pos[:, 2] == 0] = (0, 0, 0)\n",
    "colors = list(colors)\n",
    "colors.extend([(255, 0, 0) for i in range(len(data))])\n",
    "pcl.colors = o3d.utility.Vector3dVector(colors)\n",
    "\n",
    "visualize_pointcloud(pcl, True)"
   ]
  },
  {
   "cell_type": "code",
   "execution_count": null,
   "metadata": {},
   "outputs": [],
   "source": []
  },
  {
   "cell_type": "markdown",
   "metadata": {},
   "source": [
    "### Profiling"
   ]
  },
  {
   "cell_type": "code",
   "execution_count": null,
   "metadata": {},
   "outputs": [],
   "source": [
    "%load_ext line_profiler\n",
    "%lprun -f function_to_profile function_to_profile(arguments)"
   ]
  },
  {
   "cell_type": "code",
   "execution_count": null,
   "metadata": {},
   "outputs": [],
   "source": [
    "%lprun -f astar astar((250, 250, 0), (450, 250, 0), grid, (0.5, 0.5, 0.5), cost_grid)"
   ]
  },
  {
   "cell_type": "code",
   "execution_count": null,
   "metadata": {},
   "outputs": [],
   "source": [
    "%lprun -f create_cost_grid create_cost_grid(grid, 5)"
   ]
  },
  {
   "cell_type": "code",
   "execution_count": null,
   "metadata": {},
   "outputs": [],
   "source": []
  }
 ],
 "metadata": {
  "kernelspec": {
   "display_name": "venv-food",
   "language": "python",
   "name": "python3"
  },
  "language_info": {
   "codemirror_mode": {
    "name": "ipython",
    "version": 3
   },
   "file_extension": ".py",
   "mimetype": "text/x-python",
   "name": "python",
   "nbconvert_exporter": "python",
   "pygments_lexer": "ipython3",
   "version": "3.10.13"
  },
  "orig_nbformat": 4
 },
 "nbformat": 4,
 "nbformat_minor": 2
}
