{
  "nbformat": 4,
  "nbformat_minor": 0,
  "metadata": {
    "colab": {
      "provenance": []
    },
    "kernelspec": {
      "name": "python3",
      "display_name": "Python 3"
    },
    "language_info": {
      "name": "python"
    }
  },
  "cells": [
    {
      "cell_type": "code",
      "execution_count": null,
      "metadata": {
        "id": "1Y_vtWhFHqTj"
      },
      "outputs": [],
      "source": [
        "#imports\n",
        "import struct\n",
        "import json\n",
        "import numpy as np\n",
        "import matplotlib.pyplot as plt\n",
        "import math\n",
        "\n",
        "#load json data to np array\n",
        "f = open('/content/lidar_data_sample_boxed_env.json')\n",
        "data = json.load(f)\n",
        "arr = np.array(data[\"point_cloud\"])\n",
        "arr"
      ]
    },
    {
      "cell_type": "code",
      "source": [
        "#specify z range and get xy array\n",
        "z_min = -5.0\n",
        "z_max = -4.0\n",
        "\n",
        "mask = (arr[:, 2] >= z_min) & (arr[:, 2] <= z_max)\n",
        "z_arr = arr[mask, :2]\n",
        "\n",
        "print(z_arr)"
      ],
      "metadata": {
        "id": "GprtZWWRwusn"
      },
      "execution_count": null,
      "outputs": []
    },
    {
      "cell_type": "code",
      "source": [
        "#filtered\n",
        "plt.scatter(z_arr[:, 0], z_arr[:, 1])\n",
        "plt.xlabel('X')\n",
        "plt.ylabel('Y')\n",
        "plt.title('Z Range Plot')\n",
        "plt.grid(True)\n",
        "plt.show()"
      ],
      "metadata": {
        "id": "q3A477WGv_t5"
      },
      "execution_count": null,
      "outputs": []
    },
    {
      "cell_type": "code",
      "source": [
        "#get max x and y vals\n",
        "#max x val\n",
        "x_coords = z_arr[:, 0]\n",
        "max_x = np.max(x_coords)\n",
        "max_x_int = math.ceil(max_x)\n",
        "print(\"max x: \",max_x)\n",
        "print(\"max x int: \",max_x_int)\n",
        "\n",
        "#max y val\n",
        "y_coords = z_arr[:, 1]\n",
        "max_y = np.max(y_coords)\n",
        "max_y_int = math.ceil(max_y)\n",
        "print(\"max y: \",max_y)\n",
        "print(\"max y int: \",max_y_int)"
      ],
      "metadata": {
        "id": "1YFIsJQJz3Cg"
      },
      "execution_count": null,
      "outputs": []
    },
    {
      "cell_type": "code",
      "source": [
        "#bin grid plt\n",
        "point_cloud = z_arr\n",
        "\"\"\"\n",
        "#def size and res\n",
        "grid_size = (max_x_int + 5, max_y_int + 5)\n",
        "resolution = .5\n",
        "\n",
        "#get grid size to convert\n",
        "x_coords = z_arr[:, 0]\n",
        "y_coords = z_arr[:, 1]\n",
        "min_x = np.min(x_coords)\n",
        "min_y = np.min(y_coords)\n",
        "range_x = max_x - min_x\n",
        "range_y = max_y - min_y\n",
        "grid_size = (math.ceil(range_x / resolution) + 1, math.ceil(range_y / resolution) + 1)\n",
        "\n",
        "#pc to bin arr\n",
        "binary_grid = np.zeros(grid_size, dtype=int)\n",
        "for point in point_cloud:\n",
        "    x, y = point\n",
        "    grid_x = int((x - min_x) / resolution)\n",
        "    grid_y = int((y - min_y) / resolution)\n",
        "    if 0 <= grid_x < grid_size[0] and 0 <= grid_y < grid_size[1]:\n",
        "        binary_grid[grid_x, grid_y] = 1\n",
        "\n",
        "#disp bin arr\n",
        "plt.imshow(binary_grid.T, cmap='binary', origin='lower', extent=[0, range_x, 0, range_y])\n",
        "plt.title('Binary Grid')\n",
        "plt.xlabel('X')\n",
        "plt.ylabel('Y')\n",
        "plt.show()\n",
        "\"\"\""
      ],
      "metadata": {
        "id": "_hPTqVhRCIPc"
      },
      "execution_count": null,
      "outputs": []
    },
    {
      "cell_type": "code",
      "source": [
        "#bin grid plt function\n",
        "point_cloud = z_arr #xy coord array at specified z range\n",
        "\n",
        "#funct\n",
        "def to_bin(point_cloud, resolution=0.5):\n",
        "\n",
        "  #get grid size to convert\n",
        "  x_coords = z_arr[:, 0]\n",
        "  y_coords = z_arr[:, 1]\n",
        "  min_x = np.min(x_coords)\n",
        "  min_y = np.min(y_coords)\n",
        "  range_x = max_x - min_x\n",
        "  range_y = max_y - min_y\n",
        "  grid_size = (math.ceil(range_x / resolution) + 1, math.ceil(range_y / resolution) + 1)\n",
        "\n",
        "  #pc to bin arr\n",
        "  binary_grid = np.zeros(grid_size, dtype=int)\n",
        "  for point in point_cloud:\n",
        "    x, y = point\n",
        "    grid_x = int((x - min_x) / resolution)\n",
        "    grid_y = int((y - min_y) / resolution)\n",
        "    if 0 <= grid_x < grid_size[0] and 0 <= grid_y < grid_size[1]:\n",
        "        binary_grid[grid_x, grid_y] = 1\n",
        "\n",
        "  #check bin grid\n",
        "  print(binary_grid)\n",
        "\n",
        "#call\n",
        "to_bin(z_arr)\n"
      ],
      "metadata": {
        "id": "APZ4WHpqJNuh"
      },
      "execution_count": null,
      "outputs": []
    }
  ]
}