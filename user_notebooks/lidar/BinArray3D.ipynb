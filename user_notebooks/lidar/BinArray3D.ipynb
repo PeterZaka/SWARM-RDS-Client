{
 "cells": [
  {
   "cell_type": "code",
   "execution_count": null,
   "metadata": {},
   "outputs": [],
   "source": [
    "import re\n",
    "import numpy as np\n",
    "import matplotlib.pyplot as plt\n",
    "import copy\n",
    "import open3d as o3d"
   ]
  },
  {
   "cell_type": "code",
   "execution_count": null,
   "metadata": {},
   "outputs": [],
   "source": [
    "def get_points(s):\n",
    "    pattern = re.compile(r'user_message\\|([0-9\\.\\,\\-e]*,)')\n",
    "    new_points = []\n",
    "    for i in re.findall(pattern, s):\n",
    "        i = i.split(',')[:-1]\n",
    "        if len(i) == 0:\n",
    "            continue\n",
    "        new_points.append([float(x) for x in i])\n",
    "    new_points = np.array(new_points)\n",
    "    return new_points"
   ]
  },
  {
   "cell_type": "code",
   "execution_count": null,
   "metadata": {},
   "outputs": [],
   "source": [
    "def visualize_pointcloud(pcd, show_draw=False):\n",
    "    pcd = copy.deepcopy(pcd)\n",
    "    o3d.visualization.draw_plotly([pcd])\n",
    "    if show_draw:\n",
    "        R = pcd.get_rotation_matrix_from_xyz((-np.pi / 2, 0, np.pi / 2))\n",
    "        pcd.rotate(R, center=(0, 0, 0))\n",
    "        o3d.visualization.draw([pcd], show_ui=True)"
   ]
  },
  {
   "cell_type": "code",
   "execution_count": null,
   "metadata": {},
   "outputs": [],
   "source": [
    "with open('points.txt') as f:\n",
    "    s = f.read()"
   ]
  },
  {
   "cell_type": "code",
   "execution_count": null,
   "metadata": {},
   "outputs": [],
   "source": [
    "points = get_points(s)\n",
    "points[:, 1] *= -1\n",
    "\n",
    "pcl = o3d.geometry.PointCloud()\n",
    "pcl.points = o3d.utility.Vector3dVector(points)\n",
    "\n",
    "visualize_pointcloud(pcl)"
   ]
  },
  {
   "cell_type": "code",
   "execution_count": null,
   "metadata": {},
   "outputs": [],
   "source": [
    "def point_cloud_to_occupancy_map(points, grid_size, resolution, z_range):\n",
    "  (z_min, z_max) = z_range\n",
    "  mask = (points[:, 2] >= z_min) & (points[:, 2] <= z_max)\n",
    "  points = points[mask, :2]\n",
    "\n",
    "  binary_grid = np.zeros(grid_size, dtype=float)\n",
    "  for point in points:\n",
    "    x, y = point\n",
    "    grid_x = int(grid_size[0] / 2 + x / resolution)\n",
    "    grid_y = int(grid_size[1] / 2 + y / resolution)\n",
    "    if 0 <= grid_x < grid_size[0] and 0 <= grid_y < grid_size[1]:\n",
    "      binary_grid[grid_x, grid_y] = 1\n",
    "\n",
    "  binary_grid = binary_grid.T\n",
    "\n",
    "  return binary_grid"
   ]
  },
  {
   "cell_type": "code",
   "execution_count": null,
   "metadata": {},
   "outputs": [],
   "source": [
    "def binary_array_to_points(binary_array):\n",
    "    points = []\n",
    "    for z in range(len(binary_array)):\n",
    "        for y in range(len(binary_array[z])):\n",
    "            for x in range(len(binary_array[z][y])):\n",
    "                if binary_array[z][y][x] == 1:\n",
    "                    points.append((x, y, z))\n",
    "    return points"
   ]
  },
  {
   "cell_type": "code",
   "execution_count": null,
   "metadata": {},
   "outputs": [],
   "source": [
    "grid = []\n",
    "\n",
    "length = 200\n",
    "\n",
    "z_start = -2\n",
    "z_end = 5\n",
    "planes = 5\n",
    "z_size = (z_end - z_start) / planes\n",
    "for i in range(planes):\n",
    "    z_min = z_start + z_size * i\n",
    "    z_max = z_start + z_size * (i + 1)\n",
    "    new_grid = point_cloud_to_occupancy_map(points, (length, length), 3, (z_min, z_max))\n",
    "    grid.append(new_grid)\n",
    "\n",
    "pos = binary_array_to_points(grid)\n",
    "#pos = [(p[0], -p[1], p[2]) for p in pos]\n",
    "\n",
    "# Plot the points where the binary array is 1\n",
    "pcl = o3d.geometry.PointCloud()\n",
    "pcl.points = o3d.utility.Vector3dVector(pos)\n",
    "\n",
    "visualize_pointcloud(pcl, True)"
   ]
  },
  {
   "cell_type": "code",
   "execution_count": null,
   "metadata": {},
   "outputs": [],
   "source": []
  },
  {
   "cell_type": "code",
   "execution_count": null,
   "metadata": {},
   "outputs": [],
   "source": [
    "points.shape"
   ]
  },
  {
   "cell_type": "code",
   "execution_count": null,
   "metadata": {},
   "outputs": [],
   "source": []
  }
 ],
 "metadata": {
  "kernelspec": {
   "display_name": "venv-SWARM-3.10",
   "language": "python",
   "name": "python3"
  },
  "language_info": {
   "codemirror_mode": {
    "name": "ipython",
    "version": 3
   },
   "file_extension": ".py",
   "mimetype": "text/x-python",
   "name": "python",
   "nbconvert_exporter": "python",
   "pygments_lexer": "ipython3",
   "version": "3.10.13"
  }
 },
 "nbformat": 4,
 "nbformat_minor": 2
}
