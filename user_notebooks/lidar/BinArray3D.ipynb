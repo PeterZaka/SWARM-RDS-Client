{
 "cells": [
  {
   "cell_type": "code",
   "execution_count": null,
   "metadata": {},
   "outputs": [],
   "source": [
    "import re\n",
    "import numpy as np\n",
    "import matplotlib.pyplot as plt\n",
    "import copy\n",
    "import open3d as o3d"
   ]
  },
  {
   "cell_type": "code",
   "execution_count": null,
   "metadata": {},
   "outputs": [],
   "source": [
    "def get_points(s):\n",
    "    pattern = re.compile(r'user_message\\|([0-9\\.\\,\\-e]*,)')\n",
    "    new_points = []\n",
    "    for i in re.findall(pattern, s):\n",
    "        i = i.split(',')[:-1]\n",
    "        if len(i) == 0:\n",
    "            continue\n",
    "        new_points.append([float(x) for x in i])\n",
    "    new_points = np.array(new_points)\n",
    "    return new_points"
   ]
  },
  {
   "cell_type": "code",
   "execution_count": null,
   "metadata": {},
   "outputs": [],
   "source": [
    "def visualize_pointcloud(pcd, show_draw=False):\n",
    "    pcd = copy.deepcopy(pcd)\n",
    "    o3d.visualization.draw_plotly([pcd])\n",
    "    if show_draw:\n",
    "        R = pcd.get_rotation_matrix_from_xyz((-np.pi / 2, 0, np.pi / 2))\n",
    "        pcd.rotate(R, center=(0, 0, 0))\n",
    "        o3d.visualization.draw([pcd], show_ui=True)"
   ]
  },
  {
   "cell_type": "code",
   "execution_count": null,
   "metadata": {},
   "outputs": [],
   "source": [
    "with open('points.txt') as f:\n",
    "    s = f.read()"
   ]
  },
  {
   "cell_type": "code",
   "execution_count": null,
   "metadata": {},
   "outputs": [],
   "source": [
    "points = get_points(s)\n",
    "points[:, 1] *= -1\n",
    "\n",
    "pcl = o3d.geometry.PointCloud()\n",
    "pcl.points = o3d.utility.Vector3dVector(points)\n",
    "\n",
    "visualize_pointcloud(pcl)"
   ]
  },
  {
   "cell_type": "code",
   "execution_count": null,
   "metadata": {},
   "outputs": [],
   "source": [
    "def binary_array_to_points(binary_array):\n",
    "    points = []\n",
    "    for z in range(len(binary_array)):\n",
    "        for y in range(len(binary_array[z])):\n",
    "            for x in range(len(binary_array[z][y])):\n",
    "                if binary_array[z][y][x] == 1:\n",
    "                    points.append((x, y, z))\n",
    "    return points"
   ]
  },
  {
   "cell_type": "code",
   "execution_count": null,
   "metadata": {},
   "outputs": [],
   "source": [
    "def point_cloud_to_2d_occupancy_map(points, start, scale, grid_size):\n",
    "    \"\"\"\n",
    "    Convert point cloud to a 3d occupancy map\n",
    "\n",
    "    Parameters\n",
    "    ----------\n",
    "    points : list of points\n",
    "        [(x, y, z), ...]\n",
    "    start : \"bottom left\" of the occupancy map\n",
    "        (x, y, z)\n",
    "    scale : how each dimension is scaled\n",
    "        (x, y, z)\n",
    "    grid_size : size of grid to be returned\n",
    "        (x, y, z)\n",
    "\n",
    "    Returns\n",
    "    -------\n",
    "    3d binary grid\n",
    "    \"\"\"\n",
    "\n",
    "    binary_grid = np.zeros(grid_size, dtype=float)\n",
    "    for point in points:\n",
    "        x, y = point\n",
    "        grid_x = int((x - start[0]) / scale[0])\n",
    "        grid_y = int((y - start[1]) / scale[1])\n",
    "        if 0 <= grid_x < grid_size[0] and 0 <= grid_y < grid_size[1]:\n",
    "            binary_grid[grid_x, grid_y] = 1\n",
    "\n",
    "    binary_grid = binary_grid.T\n",
    "\n",
    "    return binary_grid\n",
    "\n",
    "def point_cloud_to_3d_occupancy_map(points, start, scale, grid_size):\n",
    "    \"\"\"\n",
    "    Convert point cloud to a 3d occupancy map\n",
    "\n",
    "    Parameters\n",
    "    ----------\n",
    "    points : list of points\n",
    "        [(x, y, z), ...]\n",
    "    start : \"bottom left\" of the occupancy map\n",
    "        (x, y, z)\n",
    "    scale : how each dimension is scaled\n",
    "        (x, y, z)\n",
    "    grid_size : size of grid to be returned\n",
    "        (x, y, z)\n",
    "\n",
    "    Returns\n",
    "    -------\n",
    "    3d binary grid\n",
    "    \"\"\"\n",
    "\n",
    "    grid = []\n",
    "    for i in range(grid_size[2]):\n",
    "        z_min = start[2] + scale[2] * i\n",
    "        z_max = start[2] + scale[2] * (i + 1)\n",
    "\n",
    "        mask = (points[:, 2] >= z_min) & (points[:, 2] < z_max)\n",
    "        flat_points = points[mask, :2]\n",
    "\n",
    "        new_grid = point_cloud_to_2d_occupancy_map(flat_points, start[:2], scale[:2], grid_size[:2])\n",
    "        grid.append(new_grid)\n",
    "\n",
    "    return grid"
   ]
  },
  {
   "cell_type": "code",
   "execution_count": null,
   "metadata": {},
   "outputs": [],
   "source": []
  },
  {
   "cell_type": "code",
   "execution_count": null,
   "metadata": {},
   "outputs": [],
   "source": [
    "def calc_real_to_array(position, start, scale):\n",
    "    \"\"\"\n",
    "    Go from real world to numpy array\n",
    "    input:\n",
    "        position: (x, y, z) [m]\n",
    "    output:\n",
    "        array_position: (x, y, z) [grid]\n",
    "    \"\"\"\n",
    "    return tuple(int((position[i] - start[i]) / scale[i]) for i in range(len(start)))"
   ]
  },
  {
   "cell_type": "code",
   "execution_count": null,
   "metadata": {},
   "outputs": [],
   "source": [
    "def point_cloud_to_3d_occupancy_map(points, start, scale, grid_size):\n",
    "    \"\"\"\n",
    "    Convert point cloud to a 3d occupancy map\n",
    "\n",
    "    Parameters\n",
    "    ----------\n",
    "    points : list of points\n",
    "        [(x, y, z), ...]\n",
    "    start : \"bottom left\" of the occupancy map\n",
    "        (x, y, z)\n",
    "    scale : how each dimension is scaled\n",
    "        (x, y, z)\n",
    "    grid_size : size of grid to be returned\n",
    "        (x, y, z)\n",
    "\n",
    "    Returns\n",
    "    -------\n",
    "    3d binary grid\n",
    "    \"\"\"\n",
    "\n",
    "    grid = np.zeros(tuple(reversed(grid_size)))\n",
    "    converted_points = [calc_real_to_array(point, start, scale) for point in points]\n",
    "\n",
    "    # Define the range\n",
    "    min_range = (0, 0, 0)\n",
    "    max_range = grid_size\n",
    "\n",
    "    # Filter tuples within the range\n",
    "    converted_points = [(x, y, z) for x, y, z in converted_points\n",
    "                    if min_range[0] <= x < max_range[0]\n",
    "                    and min_range[1] <= y < max_range[1]\n",
    "                    and min_range[2] <= z < max_range[2]]\n",
    "    \n",
    "    x, y, z = zip(*converted_points)\n",
    "    grid[z, y, x] = 1\n",
    "\n",
    "    return grid"
   ]
  },
  {
   "cell_type": "code",
   "execution_count": null,
   "metadata": {},
   "outputs": [],
   "source": [
    "point = calc_real_to_array((1.29, -0.6, -1.86), start, scale)\n",
    "point"
   ]
  },
  {
   "cell_type": "code",
   "execution_count": null,
   "metadata": {},
   "outputs": [],
   "source": [
    "calc_array_to_real(point, start, scale)"
   ]
  },
  {
   "cell_type": "code",
   "execution_count": null,
   "metadata": {},
   "outputs": [],
   "source": [
    "grid = []\n",
    "\n",
    "start = (-100, -100, -2)\n",
    "scale = (0.5, 0.5, 0.5)\n",
    "grid_size = (400, 400, 50)\n",
    "\n",
    "grid = point_cloud_to_3d_occupancy_map(points, start, scale, grid_size)\n",
    "\n",
    "\n",
    "pos = binary_array_to_points(grid)\n",
    "#pos = [(p[0], -p[1], p[2]) for p in pos]\n",
    "\n",
    "# Plot the points where the binary array is 1\n",
    "pcl = o3d.geometry.PointCloud()\n",
    "pcl.points = o3d.utility.Vector3dVector(pos)\n",
    "\n",
    "visualize_pointcloud(pcl, False)"
   ]
  },
  {
   "cell_type": "code",
   "execution_count": null,
   "metadata": {},
   "outputs": [],
   "source": [
    "def calc_array_to_real(position, start, scale):\n",
    "    \"\"\"\n",
    "    Go from numpy array to real world\n",
    "    input:\n",
    "        position: (x, y, z) [grid]\n",
    "    output:\n",
    "        real_position: (x, y, z) [m]\n",
    "    \"\"\"\n",
    "\n",
    "    return tuple(scale[i] * position[i] + start[i] for i in range(len(start)))"
   ]
  },
  {
   "cell_type": "code",
   "execution_count": null,
   "metadata": {},
   "outputs": [],
   "source": [
    "recreated_points = [calc_array_to_real(point, start, scale) for point in pos]"
   ]
  },
  {
   "cell_type": "code",
   "execution_count": null,
   "metadata": {},
   "outputs": [],
   "source": [
    "pcl = o3d.geometry.PointCloud()\n",
    "pcl.points = o3d.utility.Vector3dVector(recreated_points)\n",
    "\n",
    "visualize_pointcloud(pcl)"
   ]
  },
  {
   "cell_type": "code",
   "execution_count": null,
   "metadata": {},
   "outputs": [],
   "source": []
  }
 ],
 "metadata": {
  "kernelspec": {
   "display_name": "venv-SWARM-3.10",
   "language": "python",
   "name": "python3"
  },
  "language_info": {
   "codemirror_mode": {
    "name": "ipython",
    "version": 3
   },
   "file_extension": ".py",
   "mimetype": "text/x-python",
   "name": "python",
   "nbconvert_exporter": "python",
   "pygments_lexer": "ipython3",
   "version": "3.10.13"
  }
 },
 "nbformat": 4,
 "nbformat_minor": 2
}
