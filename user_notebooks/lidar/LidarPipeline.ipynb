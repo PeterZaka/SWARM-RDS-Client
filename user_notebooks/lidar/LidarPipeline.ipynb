{
 "cells": [
  {
   "cell_type": "code",
   "execution_count": 1,
   "metadata": {},
   "outputs": [],
   "source": [
    "import json\n",
    "import numpy as np\n",
    "import copy"
   ]
  },
  {
   "cell_type": "code",
   "execution_count": 2,
   "metadata": {},
   "outputs": [],
   "source": [
    "def JSON_to_Dictonary(filename):\n",
    "    \"\"\"\n",
    "    Converts JSON to Dictonary with one timestamp of lidar data\n",
    "\n",
    "    Parameters\n",
    "    ----------\n",
    "    filename : string\n",
    "        .json of lidar data\n",
    "\n",
    "    Returns\n",
    "    -------\n",
    "    dictonary\n",
    "    {\n",
    "        point_cloud = [num_of_points][3],\n",
    "        pose :\n",
    "            orientation :\n",
    "                w_val = num,\n",
    "                x_val = num,\n",
    "                y_val = num,\n",
    "                z_val = num\n",
    "            position :\n",
    "                x_val = num,\n",
    "                y_val = num,\n",
    "                z_val = num\n",
    "\n",
    "    }\n",
    "    \"\"\"\n",
    "\n",
    "    with open(filename) as f:\n",
    "        data = json.load(f)\n",
    "\n",
    "        # get first timestamp\n",
    "        if 'point_cloud' not in data.keys():\n",
    "            data = next(iter(data.values()))\n",
    "\n",
    "    return data"
   ]
  },
  {
   "cell_type": "code",
   "execution_count": 3,
   "metadata": {},
   "outputs": [],
   "source": [
    "def calculate_rotation(data):\n",
    "    \"\"\"\n",
    "    Rotate a point cloud based on drone orientation\n",
    "\n",
    "    Parameters\n",
    "    ----------\n",
    "    data : dictonary\n",
    "\n",
    "    Returns\n",
    "    -------\n",
    "    data : dictonary\n",
    "        Only data[\"point_cloud\"] is changed\n",
    "    \"\"\"\n",
    "\n",
    "    return data"
   ]
  },
  {
   "cell_type": "code",
   "execution_count": 9,
   "metadata": {},
   "outputs": [],
   "source": [
    "def calculate_offset(data):\n",
    "    \"\"\"\n",
    "    Offset a point cloud based on drone position\n",
    "\n",
    "    Parameters\n",
    "    ----------\n",
    "    data : dictonary\n",
    "\n",
    "    Returns\n",
    "    -------\n",
    "    data : dictonary\n",
    "        Only data[\"point_cloud\"] is changed\n",
    "    \"\"\"\n",
    "    data[\"point_cloud\"] += np.array(list(data[\"pose\"][\"position\"].values()))\n",
    "\n",
    "    return data"
   ]
  },
  {
   "cell_type": "code",
   "execution_count": 10,
   "metadata": {},
   "outputs": [],
   "source": [
    "def transform_data(data):\n",
    "    \"\"\"\n",
    "    Transforms a point cloud based on drone's orientation and position\n",
    "\n",
    "    Parameters\n",
    "    ----------\n",
    "    data : dictonary\n",
    "\n",
    "    Returns\n",
    "    -------\n",
    "    point_cloud\n",
    "        [num_of_points][3]\n",
    "    \"\"\"\n",
    "\n",
    "    rotated_data = calculate_rotation(data)\n",
    "    transformed_data = calculate_offset(rotated_data)\n",
    "    point_cloud = transformed_data[\"point_cloud\"]\n",
    "    \n",
    "    return point_cloud"
   ]
  },
  {
   "cell_type": "code",
   "execution_count": 11,
   "metadata": {},
   "outputs": [],
   "source": [
    "def point_cloud_to_occupancy_map(point_cloud, z_range, grid_size, resolution):\n",
    "    \"\"\"\n",
    "    Convert a point cloud into an occupancy map\n",
    "\n",
    "    Parameters\n",
    "    ----------\n",
    "    point_cloud : [num_of_points][3]\n",
    "    z_range : (z_min, z_max)\n",
    "    grid_size : (width, height)\n",
    "    resolution : meters per grid cell\n",
    "\n",
    "    Returns\n",
    "    -------\n",
    "    2d binary list of grid_size\n",
    "    \"\"\"\n",
    "\n",
    "    return [\n",
    "        [ 0, 0, 0 ],\n",
    "        [ 1, 1, 0 ]\n",
    "    ]"
   ]
  },
  {
   "cell_type": "code",
   "execution_count": 14,
   "metadata": {},
   "outputs": [],
   "source": [
    "def JSON_to_Occupancy_Map(filename, z_range, grid_size, resolution):\n",
    "    data = JSON_to_Dictonary(filename)\n",
    "    point_cloud = transform_data(data)\n",
    "    occupancy_map = point_cloud_to_occupancy_map(point_cloud, z_range, grid_size, resolution)\n",
    "    return occupancy_map"
   ]
  },
  {
   "cell_type": "code",
   "execution_count": 15,
   "metadata": {},
   "outputs": [
    {
     "name": "stdout",
     "output_type": "stream",
     "text": [
      "[[12.         -3.95295501 -3.74695921]\n",
      " [12.         -3.81976414 -3.74695921]\n",
      " [12.         -3.68742228 -3.74695921]\n",
      " ...\n",
      " [11.19849777  3.76943588 -9.25679398]\n",
      " [11.16006565  3.88173771 -9.25679398]\n",
      " [11.12051201  3.99364853 -9.25679398]]\n"
     ]
    },
    {
     "data": {
      "text/plain": [
       "[[0, 0, 0], [1, 1, 0]]"
      ]
     },
     "execution_count": 15,
     "metadata": {},
     "output_type": "execute_result"
    }
   ],
   "source": [
    "JSON_to_Occupancy_Map('lidar_data_sample_boxed_env.json', (-5, -4), (200, 200), 1)"
   ]
  },
  {
   "cell_type": "code",
   "execution_count": null,
   "metadata": {},
   "outputs": [],
   "source": []
  }
 ],
 "metadata": {
  "kernelspec": {
   "display_name": "venv-SWARM",
   "language": "python",
   "name": "python3"
  },
  "language_info": {
   "codemirror_mode": {
    "name": "ipython",
    "version": 3
   },
   "file_extension": ".py",
   "mimetype": "text/x-python",
   "name": "python",
   "nbconvert_exporter": "python",
   "pygments_lexer": "ipython3",
   "version": "3.11.5"
  }
 },
 "nbformat": 4,
 "nbformat_minor": 2
}
